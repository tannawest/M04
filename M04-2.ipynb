{
 "cells": [
  {
   "cell_type": "code",
   "execution_count": 3,
   "id": "b2b4817d-5c55-4419-9328-059404bdda5d",
   "metadata": {},
   "outputs": [],
   "source": [
    "with open(\"zoo.py\", \"w\") as f:\n",
    "    f.write('''def hours():\\n \n",
    "    print(\"Open 9-5 daily\")''')"
   ]
  },
  {
   "cell_type": "code",
   "execution_count": 5,
   "id": "aa2b8afd-0144-4343-a34c-b6069ed0579e",
   "metadata": {},
   "outputs": [
    {
     "name": "stdout",
     "output_type": "stream",
     "text": [
      "Open 9-5 daily\n"
     ]
    }
   ],
   "source": [
    "import zoo\n",
    "zoo.hours()"
   ]
  },
  {
   "cell_type": "code",
   "execution_count": 7,
   "id": "c26af8b8-e7e6-4d7b-baab-fd9e9e4e72c1",
   "metadata": {},
   "outputs": [
    {
     "name": "stdout",
     "output_type": "stream",
     "text": [
      "Open 9-5 daily\n"
     ]
    }
   ],
   "source": [
    "import zoo as menagerie\n",
    "menagerie.hours()"
   ]
  },
  {
   "cell_type": "code",
   "execution_count": 11,
   "id": "029338d3-ec6c-46ae-b0a1-9e70bbba6e6e",
   "metadata": {},
   "outputs": [
    {
     "name": "stdout",
     "output_type": "stream",
     "text": [
      "2025-02-06\n"
     ]
    }
   ],
   "source": [
    "import datetime\n",
    "today = datetime.date.today()\n",
    "print(today)"
   ]
  },
  {
   "cell_type": "code",
   "execution_count": 13,
   "id": "25fbb14c-3a84-4e41-8c72-31111d3dde47",
   "metadata": {},
   "outputs": [
    {
     "name": "stdout",
     "output_type": "stream",
     "text": [
      "Thursday, February 06, 2025\n"
     ]
    }
   ],
   "source": [
    "formatted_date = today.strftime(\"%A, %B %d, %Y\")\n",
    "print(formatted_date)"
   ]
  },
  {
   "cell_type": "code",
   "execution_count": null,
   "id": "8375dd86-36d3-4f1b-90e6-8ae375f34e26",
   "metadata": {},
   "outputs": [],
   "source": []
  }
 ],
 "metadata": {
  "kernelspec": {
   "display_name": "anaconda-2024.02-py310",
   "language": "python",
   "name": "conda-env-anaconda-2024.02-py310-py"
  },
  "language_info": {
   "codemirror_mode": {
    "name": "ipython",
    "version": 3
   },
   "file_extension": ".py",
   "mimetype": "text/x-python",
   "name": "python",
   "nbconvert_exporter": "python",
   "pygments_lexer": "ipython3",
   "version": "3.10.14"
  }
 },
 "nbformat": 4,
 "nbformat_minor": 5
}
